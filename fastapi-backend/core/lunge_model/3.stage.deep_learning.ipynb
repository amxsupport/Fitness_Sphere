{
 "cells": [
  {
   "cell_type": "code",
   "execution_count": 15,
   "metadata": {},
   "outputs": [],
   "source": [
    "# Data visualization\n",
    "import numpy as np\n",
    "import pandas as pd \n",
    "# Keras\n",
    "from keras.models import Sequential\n",
    "from keras.layers import Dense\n",
    "from keras.layers import Dropout\n",
    "from keras.optimizers import Adam\n",
    "from keras.utils.np_utils import to_categorical\n",
    "\n",
    "# Train-Test\n",
    "from sklearn.model_selection import train_test_split\n",
    "# Classification Report\n",
    "from sklearn.metrics import classification_report, confusion_matrix\n",
    "\n",
    "import pickle\n",
    "\n",
    "import warnings\n",
    "warnings.filterwarnings('ignore')"
   ]
  },
  {
   "cell_type": "markdown",
   "metadata": {},
   "source": [
    "## 1. Describe dataset and Train Model"
   ]
  },
  {
   "cell_type": "markdown",
   "metadata": {},
   "source": [
    "### 1.1. Describe dataset"
   ]
  },
  {
   "cell_type": "code",
   "execution_count": 3,
   "metadata": {},
   "outputs": [],
   "source": [
    "# Determine important landmarks for lunge\n",
    "IMPORTANT_LMS = [\n",
    "    \"NOSE\",\n",
    "    \"LEFT_SHOULDER\",\n",
    "    \"RIGHT_SHOULDER\",\n",
    "    \"LEFT_HIP\",\n",
    "    \"RIGHT_HIP\",\n",
    "    \"LEFT_KNEE\",\n",
    "    \"RIGHT_KNEE\",\n",
    "    \"LEFT_ANKLE\",\n",
    "    \"RIGHT_ANKLE\",\n",
    "    \"LEFT_HEEL\",\n",
    "    \"RIGHT_HEEL\",\n",
    "    \"LEFT_FOOT_INDEX\",\n",
    "    \"RIGHT_FOOT_INDEX\",\n",
    "]\n",
    "\n",
    "# Generate all columns of the data frame\n",
    "\n",
    "HEADERS = [\"label\"] # Label column\n",
    "\n",
    "for lm in IMPORTANT_LMS:\n",
    "    HEADERS += [f\"{lm.lower()}_x\", f\"{lm.lower()}_y\", f\"{lm.lower()}_z\", f\"{lm.lower()}_v\"]"
   ]
  },
  {
   "cell_type": "code",
   "execution_count": 4,
   "metadata": {},
   "outputs": [
    {
     "name": "stdout",
     "output_type": "stream",
     "text": [
      "Headers: ['label', 'nose_x', 'nose_y', 'nose_z', 'nose_v', 'left_shoulder_x', 'left_shoulder_y', 'left_shoulder_z', 'left_shoulder_v', 'right_shoulder_x', 'right_shoulder_y', 'right_shoulder_z', 'right_shoulder_v', 'left_hip_x', 'left_hip_y', 'left_hip_z', 'left_hip_v', 'right_hip_x', 'right_hip_y', 'right_hip_z', 'right_hip_v', 'left_knee_x', 'left_knee_y', 'left_knee_z', 'left_knee_v', 'right_knee_x', 'right_knee_y', 'right_knee_z', 'right_knee_v', 'left_ankle_x', 'left_ankle_y', 'left_ankle_z', 'left_ankle_v', 'right_ankle_x', 'right_ankle_y', 'right_ankle_z', 'right_ankle_v', 'left_heel_x', 'left_heel_y', 'left_heel_z', 'left_heel_v', 'right_heel_x', 'right_heel_y', 'right_heel_z', 'right_heel_v', 'left_foot_index_x', 'left_foot_index_y', 'left_foot_index_z', 'left_foot_index_v', 'right_foot_index_x', 'right_foot_index_y', 'right_foot_index_z', 'right_foot_index_v']\n",
      "Number of rows: 17040 \n",
      "Number of columns: 53\n",
      "\n",
      "Labels: \n",
      "M    6171\n",
      "D    5735\n",
      "I    5134\n",
      "Name: label, dtype: int64\n",
      "\n",
      "Missing values: False\n",
      "\n",
      "Duplicate Rows : 0\n"
     ]
    }
   ],
   "source": [
    "def describe_dataset(dataset_path: str):\n",
    "    '''\n",
    "    Describe dataset\n",
    "    '''\n",
    "\n",
    "    data = pd.read_csv(dataset_path)\n",
    "    print(f\"Headers: {list(data.columns.values)}\")\n",
    "    print(f'Number of rows: {data.shape[0]} \\nNumber of columns: {data.shape[1]}\\n')\n",
    "    print(f\"Labels: \\n{data['label'].value_counts()}\\n\")\n",
    "    print(f\"Missing values: {data.isnull().values.any()}\\n\")\n",
    "    \n",
    "    duplicate = data[data.duplicated()]\n",
    "    print(f\"Duplicate Rows : {len(duplicate.sum(axis=1))}\")\n",
    "\n",
    "    return data\n",
    "\n",
    "\n",
    "# Remove duplicate rows (optional)\n",
    "def remove_duplicate_rows(dataset_path: str):\n",
    "    '''\n",
    "    Remove duplicated data from the dataset then save it to another files\n",
    "    '''\n",
    "    \n",
    "    df = pd.read_csv(dataset_path)\n",
    "    df.drop_duplicates(keep=\"first\", inplace=True)\n",
    "    df.to_csv(f\"cleaned_dataset.csv\", sep=',', encoding='utf-8', index=False)\n",
    "\n",
    "\n",
    "df = describe_dataset(\"./dataset.csv\")"
   ]
  },
  {
   "cell_type": "markdown",
   "metadata": {},
   "source": [
    "### 1.2. Preprocess data"
   ]
  },
  {
   "cell_type": "code",
   "execution_count": 7,
   "metadata": {},
   "outputs": [
    {
     "name": "stdout",
     "output_type": "stream",
     "text": [
      "Number of rows: 17040 \n",
      "Number of columns: 53\n",
      "\n",
      "Labels: \n",
      "1    6171\n",
      "2    5735\n",
      "0    5134\n",
      "Name: label, dtype: int64\n",
      "\n"
     ]
    }
   ],
   "source": [
    "# load dataset\n",
    "df = pd.read_csv(\"./dataset.csv\")\n",
    "\n",
    "# Categorizing label\n",
    "df.loc[df[\"label\"] == \"I\", \"label\"] = 0\n",
    "df.loc[df[\"label\"] == \"M\", \"label\"] = 1\n",
    "df.loc[df[\"label\"] == \"D\", \"label\"] = 2\n",
    "\n",
    "print(f'Number of rows: {df.shape[0]} \\nNumber of columns: {df.shape[1]}\\n')\n",
    "print(f\"Labels: \\n{df['label'].value_counts()}\\n\")"
   ]
  },
  {
   "cell_type": "code",
   "execution_count": 8,
   "metadata": {},
   "outputs": [],
   "source": [
    "# Standard Scaling of features\n",
    "with open(\"./model/input_scaler.pkl\", \"rb\") as f2:\n",
    "    input_scaler = pickle.load(f2)\n",
    "\n",
    "x = df.drop(\"label\", axis = 1)\n",
    "x = pd.DataFrame(input_scaler.transform(x))\n",
    "\n",
    "y = df[\"label\"]\n",
    "\n",
    "# # Converting prediction to categorical\n",
    "y_cat = to_categorical(y)"
   ]
  },
  {
   "cell_type": "code",
   "execution_count": 6,
   "metadata": {},
   "outputs": [],
   "source": [
    "x_train, x_test, y_train, y_test = train_test_split(x.values, y_cat, test_size=0.2)"
   ]
  },
  {
   "cell_type": "markdown",
   "metadata": {},
   "source": [
    "### 1.3. Train model"
   ]
  },
  {
   "cell_type": "code",
   "execution_count": 7,
   "metadata": {},
   "outputs": [
    {
     "name": "stdout",
     "output_type": "stream",
     "text": [
      "Metal device set to: Apple M1\n",
      "\n",
      "systemMemory: 16.00 GB\n",
      "maxCacheSize: 5.33 GB\n",
      "\n",
      "Model: \"sequential\"\n",
      "_________________________________________________________________\n",
      " Layer (type)                Output Shape              Param #   \n",
      "=================================================================\n",
      " dense (Dense)               (None, 52)                2756      \n",
      "                                                                 \n",
      " dropout (Dropout)           (None, 52)                0         \n",
      "                                                                 \n",
      " dense_1 (Dense)             (None, 52)                2756      \n",
      "                                                                 \n",
      " dropout_1 (Dropout)         (None, 52)                0         \n",
      "                                                                 \n",
      " dense_2 (Dense)             (None, 14)                742       \n",
      "                                                                 \n",
      " dense_3 (Dense)             (None, 3)                 45        \n",
      "                                                                 \n",
      "=================================================================\n",
      "Total params: 6,299\n",
      "Trainable params: 6,299\n",
      "Non-trainable params: 0\n",
      "_________________________________________________________________\n"
     ]
    },
    {
     "name": "stderr",
     "output_type": "stream",
     "text": [
      "2022-11-14 10:38:36.786157: I tensorflow/core/common_runtime/pluggable_device/pluggable_device_factory.cc:305] Could not identify NUMA node of platform GPU ID 0, defaulting to 0. Your kernel may not have been built with NUMA support.\n",
      "2022-11-14 10:38:36.786920: I tensorflow/core/common_runtime/pluggable_device/pluggable_device_factory.cc:271] Created TensorFlow device (/job:localhost/replica:0/task:0/device:GPU:0 with 0 MB memory) -> physical PluggableDevice (device: 0, name: METAL, pci bus id: <undefined>)\n"
     ]
    }
   ],
   "source": [
    "model = Sequential()\n",
    "model.add(Dense(52, input_dim = 52, activation = \"relu\"))\n",
    "model.add(Dropout(0.5))\n",
    "model.add(Dense(52, activation = \"relu\"))\n",
    "model.add(Dropout(0.5))\n",
    "model.add(Dense(14, activation = \"relu\"))\n",
    "model.add(Dense(3, activation = \"softmax\"))\n",
    "model.compile(Adam(lr = 0.01), \"categorical_crossentropy\", metrics = [\"accuracy\"])\n",
    "model.summary()"
   ]
  },
  {
   "cell_type": "code",
   "execution_count": 8,
   "metadata": {},
   "outputs": [
    {
     "name": "stdout",
     "output_type": "stream",
     "text": [
      "Epoch 1/100\n"
     ]
    },
    {
     "name": "stderr",
     "output_type": "stream",
     "text": [
      "2022-11-14 10:38:48.571461: W tensorflow/core/platform/profile_utils/cpu_utils.cc:128] Failed to get CPU frequency: 0 Hz\n",
      "2022-11-14 10:38:48.827690: I tensorflow/core/grappler/optimizers/custom_graph_optimizer_registry.cc:113] Plugin optimizer for device_type GPU is enabled.\n"
     ]
    },
    {
     "name": "stdout",
     "output_type": "stream",
     "text": [
      "1364/1364 [==============================] - ETA: 0s - loss: 0.1082 - accuracy: 0.9696"
     ]
    },
    {
     "name": "stderr",
     "output_type": "stream",
     "text": [
      "2022-11-14 10:39:02.176190: I tensorflow/core/grappler/optimizers/custom_graph_optimizer_registry.cc:113] Plugin optimizer for device_type GPU is enabled.\n"
     ]
    },
    {
     "name": "stdout",
     "output_type": "stream",
     "text": [
      "1364/1364 [==============================] - 15s 11ms/step - loss: 0.1082 - accuracy: 0.9696 - val_loss: 0.0339 - val_accuracy: 0.9947\n",
      "Epoch 2/100\n",
      "1364/1364 [==============================] - 13s 10ms/step - loss: 0.0599 - accuracy: 0.9872 - val_loss: 0.0595 - val_accuracy: 0.9815\n",
      "Epoch 3/100\n",
      "1364/1364 [==============================] - 13s 10ms/step - loss: 0.0527 - accuracy: 0.9885 - val_loss: 0.0530 - val_accuracy: 0.9944\n",
      "Epoch 4/100\n",
      "1364/1364 [==============================] - 13s 10ms/step - loss: 0.0450 - accuracy: 0.9905 - val_loss: 0.0356 - val_accuracy: 0.9938\n",
      "Epoch 5/100\n",
      "1364/1364 [==============================] - 13s 10ms/step - loss: 0.1253 - accuracy: 0.9747 - val_loss: 0.0501 - val_accuracy: 0.9921\n",
      "Epoch 6/100\n",
      "1364/1364 [==============================] - 14s 10ms/step - loss: 0.0682 - accuracy: 0.9884 - val_loss: 0.0445 - val_accuracy: 0.9865\n",
      "Epoch 7/100\n",
      "1364/1364 [==============================] - 14s 10ms/step - loss: 0.0534 - accuracy: 0.9900 - val_loss: 0.0400 - val_accuracy: 0.9933\n",
      "Epoch 8/100\n",
      "1364/1364 [==============================] - 13s 10ms/step - loss: 0.0627 - accuracy: 0.9913 - val_loss: 0.0396 - val_accuracy: 0.9950\n",
      "Epoch 9/100\n",
      "1364/1364 [==============================] - 14s 10ms/step - loss: 0.0556 - accuracy: 0.9905 - val_loss: 0.0397 - val_accuracy: 0.9953\n",
      "Epoch 10/100\n",
      "1364/1364 [==============================] - 13s 10ms/step - loss: 0.0656 - accuracy: 0.9900 - val_loss: 0.0657 - val_accuracy: 0.9795\n",
      "Epoch 11/100\n",
      "1364/1364 [==============================] - 13s 10ms/step - loss: 0.0661 - accuracy: 0.9862 - val_loss: 0.0454 - val_accuracy: 0.9933\n",
      "Epoch 12/100\n",
      "1364/1364 [==============================] - 13s 10ms/step - loss: 0.0638 - accuracy: 0.9894 - val_loss: 0.0404 - val_accuracy: 0.9930\n",
      "Epoch 13/100\n",
      "1364/1364 [==============================] - 14s 10ms/step - loss: 0.0643 - accuracy: 0.9911 - val_loss: 0.1060 - val_accuracy: 0.9668\n",
      "Epoch 14/100\n",
      "1364/1364 [==============================] - 14s 10ms/step - loss: 0.1065 - accuracy: 0.9883 - val_loss: 0.0645 - val_accuracy: 0.9844\n",
      "Epoch 15/100\n",
      "1364/1364 [==============================] - 13s 10ms/step - loss: 0.0914 - accuracy: 0.9858 - val_loss: 0.0930 - val_accuracy: 0.9683\n",
      "Epoch 16/100\n",
      "1364/1364 [==============================] - 14s 10ms/step - loss: 0.0463 - accuracy: 0.9916 - val_loss: 0.0557 - val_accuracy: 0.9886\n",
      "Epoch 17/100\n",
      "1364/1364 [==============================] - 14s 11ms/step - loss: 0.1247 - accuracy: 0.9880 - val_loss: 0.0620 - val_accuracy: 0.9886\n",
      "Epoch 18/100\n",
      "1364/1364 [==============================] - 14s 10ms/step - loss: 0.1441 - accuracy: 0.9807 - val_loss: 0.0483 - val_accuracy: 0.9935\n",
      "Epoch 19/100\n",
      "1364/1364 [==============================] - 13s 10ms/step - loss: 0.1044 - accuracy: 0.9886 - val_loss: 0.0375 - val_accuracy: 0.9944\n",
      "Epoch 20/100\n",
      "1364/1364 [==============================] - 13s 10ms/step - loss: 0.0604 - accuracy: 0.9900 - val_loss: 0.0382 - val_accuracy: 0.9933\n",
      "Epoch 21/100\n",
      "1364/1364 [==============================] - 13s 10ms/step - loss: 0.0758 - accuracy: 0.9916 - val_loss: 0.0461 - val_accuracy: 0.9933\n",
      "Epoch 22/100\n",
      "1364/1364 [==============================] - 14s 10ms/step - loss: 0.0413 - accuracy: 0.9916 - val_loss: 0.1001 - val_accuracy: 0.9704\n",
      "Epoch 23/100\n",
      "1364/1364 [==============================] - 13s 10ms/step - loss: 0.0492 - accuracy: 0.9934 - val_loss: 0.0482 - val_accuracy: 0.9959\n",
      "Epoch 24/100\n",
      "1364/1364 [==============================] - 14s 10ms/step - loss: 0.0689 - accuracy: 0.9897 - val_loss: 0.0374 - val_accuracy: 0.9950\n",
      "Epoch 25/100\n",
      "1364/1364 [==============================] - 14s 10ms/step - loss: 0.0663 - accuracy: 0.9911 - val_loss: 0.0341 - val_accuracy: 0.9944\n",
      "Epoch 26/100\n",
      "1364/1364 [==============================] - 13s 10ms/step - loss: 0.0983 - accuracy: 0.9904 - val_loss: 0.0470 - val_accuracy: 0.9933\n",
      "Epoch 27/100\n",
      "1364/1364 [==============================] - 13s 10ms/step - loss: 0.0699 - accuracy: 0.9906 - val_loss: 0.0455 - val_accuracy: 0.9921\n",
      "Epoch 28/100\n",
      "1364/1364 [==============================] - 14s 10ms/step - loss: 0.0521 - accuracy: 0.9908 - val_loss: 0.0438 - val_accuracy: 0.9915\n",
      "Epoch 29/100\n",
      "1364/1364 [==============================] - 13s 10ms/step - loss: 0.0594 - accuracy: 0.9904 - val_loss: 0.0490 - val_accuracy: 0.9930\n",
      "Epoch 30/100\n",
      "1364/1364 [==============================] - 13s 10ms/step - loss: 0.1044 - accuracy: 0.9903 - val_loss: 0.0439 - val_accuracy: 0.9933\n",
      "Epoch 31/100\n",
      "1364/1364 [==============================] - 13s 10ms/step - loss: 0.0414 - accuracy: 0.9930 - val_loss: 0.0664 - val_accuracy: 0.9806\n",
      "Epoch 32/100\n",
      "1364/1364 [==============================] - 13s 10ms/step - loss: 0.0507 - accuracy: 0.9927 - val_loss: 0.1468 - val_accuracy: 0.9563\n",
      "Epoch 33/100\n",
      "1364/1364 [==============================] - 13s 10ms/step - loss: 0.0745 - accuracy: 0.9907 - val_loss: 0.0730 - val_accuracy: 0.9742\n",
      "Epoch 34/100\n",
      "1364/1364 [==============================] - 14s 11ms/step - loss: 0.0595 - accuracy: 0.9896 - val_loss: 0.0525 - val_accuracy: 0.9933\n",
      "Epoch 35/100\n",
      "1364/1364 [==============================] - 13s 10ms/step - loss: 0.0849 - accuracy: 0.9884 - val_loss: 0.0396 - val_accuracy: 0.9941\n",
      "Epoch 36/100\n",
      "1364/1364 [==============================] - 14s 10ms/step - loss: 0.0738 - accuracy: 0.9882 - val_loss: 0.0384 - val_accuracy: 0.9950\n",
      "Epoch 37/100\n",
      "1364/1364 [==============================] - 14s 10ms/step - loss: 0.1039 - accuracy: 0.9892 - val_loss: 0.0417 - val_accuracy: 0.9941\n",
      "Epoch 38/100\n",
      "1364/1364 [==============================] - 14s 10ms/step - loss: 0.1345 - accuracy: 0.9883 - val_loss: 0.0380 - val_accuracy: 0.9921\n",
      "Epoch 39/100\n",
      "1364/1364 [==============================] - 13s 10ms/step - loss: 0.0483 - accuracy: 0.9930 - val_loss: 0.0325 - val_accuracy: 0.9959\n",
      "Epoch 40/100\n",
      "1364/1364 [==============================] - 13s 10ms/step - loss: 0.0427 - accuracy: 0.9931 - val_loss: 0.0399 - val_accuracy: 0.9947\n",
      "Epoch 41/100\n",
      "1364/1364 [==============================] - 14s 11ms/step - loss: 0.0430 - accuracy: 0.9924 - val_loss: 0.0555 - val_accuracy: 0.9950\n",
      "Epoch 42/100\n",
      "1364/1364 [==============================] - 14s 10ms/step - loss: 0.0536 - accuracy: 0.9917 - val_loss: 0.0533 - val_accuracy: 0.9933\n",
      "Epoch 43/100\n",
      "1364/1364 [==============================] - 13s 10ms/step - loss: 0.1049 - accuracy: 0.9912 - val_loss: 0.0374 - val_accuracy: 0.9935\n",
      "Epoch 44/100\n",
      "1364/1364 [==============================] - 13s 10ms/step - loss: 0.0831 - accuracy: 0.9930 - val_loss: 0.0339 - val_accuracy: 0.9950\n",
      "Epoch 45/100\n",
      "1364/1364 [==============================] - 13s 10ms/step - loss: 0.0529 - accuracy: 0.9920 - val_loss: 0.0365 - val_accuracy: 0.9953\n",
      "Epoch 46/100\n",
      "1364/1364 [==============================] - 14s 10ms/step - loss: 0.0634 - accuracy: 0.9909 - val_loss: 0.0412 - val_accuracy: 0.9947\n",
      "Epoch 47/100\n",
      "1364/1364 [==============================] - 14s 10ms/step - loss: 0.0626 - accuracy: 0.9917 - val_loss: 0.0390 - val_accuracy: 0.9956\n",
      "Epoch 48/100\n",
      "1364/1364 [==============================] - 14s 10ms/step - loss: 0.1139 - accuracy: 0.9907 - val_loss: 0.0426 - val_accuracy: 0.9944\n",
      "Epoch 49/100\n",
      "1364/1364 [==============================] - 14s 10ms/step - loss: 0.0622 - accuracy: 0.9902 - val_loss: 0.0400 - val_accuracy: 0.9938\n",
      "Epoch 50/100\n",
      "1364/1364 [==============================] - 13s 10ms/step - loss: 0.0857 - accuracy: 0.9900 - val_loss: 0.0980 - val_accuracy: 0.9862\n",
      "Epoch 51/100\n",
      "1364/1364 [==============================] - 14s 10ms/step - loss: 0.1315 - accuracy: 0.9900 - val_loss: 0.0488 - val_accuracy: 0.9944\n",
      "Epoch 52/100\n",
      "1364/1364 [==============================] - 14s 10ms/step - loss: 0.0508 - accuracy: 0.9925 - val_loss: 0.0433 - val_accuracy: 0.9944\n",
      "Epoch 53/100\n",
      "1364/1364 [==============================] - 14s 10ms/step - loss: 0.0558 - accuracy: 0.9919 - val_loss: 0.0418 - val_accuracy: 0.9938\n",
      "Epoch 54/100\n",
      "1364/1364 [==============================] - 13s 10ms/step - loss: 0.0391 - accuracy: 0.9937 - val_loss: 0.0398 - val_accuracy: 0.9947\n",
      "Epoch 55/100\n",
      "1364/1364 [==============================] - 14s 10ms/step - loss: 0.0447 - accuracy: 0.9938 - val_loss: 0.0511 - val_accuracy: 0.9953\n",
      "Epoch 56/100\n",
      "1364/1364 [==============================] - 14s 10ms/step - loss: 0.0377 - accuracy: 0.9937 - val_loss: 0.0454 - val_accuracy: 0.9933\n",
      "Epoch 57/100\n",
      "1364/1364 [==============================] - 15s 11ms/step - loss: 0.0467 - accuracy: 0.9927 - val_loss: 0.0542 - val_accuracy: 0.9912\n",
      "Epoch 58/100\n",
      "1364/1364 [==============================] - 14s 10ms/step - loss: 0.0450 - accuracy: 0.9925 - val_loss: 0.0441 - val_accuracy: 0.9938\n",
      "Epoch 59/100\n",
      "1364/1364 [==============================] - 14s 10ms/step - loss: 0.0541 - accuracy: 0.9938 - val_loss: 0.0586 - val_accuracy: 0.9839\n",
      "Epoch 60/100\n",
      "1364/1364 [==============================] - 13s 10ms/step - loss: 0.0363 - accuracy: 0.9936 - val_loss: 0.0418 - val_accuracy: 0.9944\n",
      "Epoch 61/100\n",
      "1364/1364 [==============================] - 13s 10ms/step - loss: 0.0612 - accuracy: 0.9919 - val_loss: 0.0478 - val_accuracy: 0.9918\n",
      "Epoch 62/100\n",
      "1364/1364 [==============================] - 13s 10ms/step - loss: 0.0545 - accuracy: 0.9922 - val_loss: 0.0776 - val_accuracy: 0.9850\n",
      "Epoch 63/100\n",
      "1364/1364 [==============================] - 14s 10ms/step - loss: 0.0663 - accuracy: 0.9910 - val_loss: 0.0660 - val_accuracy: 0.9933\n",
      "Epoch 64/100\n",
      "1364/1364 [==============================] - 16s 11ms/step - loss: 0.0597 - accuracy: 0.9920 - val_loss: 0.0792 - val_accuracy: 0.9850\n",
      "Epoch 65/100\n",
      "1364/1364 [==============================] - 14s 10ms/step - loss: 0.0395 - accuracy: 0.9927 - val_loss: 0.1932 - val_accuracy: 0.9935\n",
      "Epoch 66/100\n",
      "1364/1364 [==============================] - 14s 10ms/step - loss: 0.1077 - accuracy: 0.9911 - val_loss: 0.0754 - val_accuracy: 0.9806\n",
      "Epoch 67/100\n",
      "1364/1364 [==============================] - 13s 10ms/step - loss: 0.0505 - accuracy: 0.9917 - val_loss: 0.1537 - val_accuracy: 0.9824\n",
      "Epoch 68/100\n",
      "1364/1364 [==============================] - 14s 10ms/step - loss: 0.1343 - accuracy: 0.9897 - val_loss: 0.0956 - val_accuracy: 0.9921\n",
      "Epoch 69/100\n",
      "1364/1364 [==============================] - 14s 10ms/step - loss: 0.0766 - accuracy: 0.9871 - val_loss: 0.0841 - val_accuracy: 0.9880\n",
      "Epoch 70/100\n",
      "1364/1364 [==============================] - 14s 10ms/step - loss: 0.1537 - accuracy: 0.9734 - val_loss: 0.0734 - val_accuracy: 0.9933\n",
      "Epoch 71/100\n",
      "1364/1364 [==============================] - 14s 10ms/step - loss: 0.0720 - accuracy: 0.9884 - val_loss: 0.0573 - val_accuracy: 0.9935\n",
      "Epoch 72/100\n",
      "1364/1364 [==============================] - 15s 11ms/step - loss: 0.0545 - accuracy: 0.9928 - val_loss: 0.0505 - val_accuracy: 0.9927\n",
      "Epoch 73/100\n",
      "1364/1364 [==============================] - 15s 11ms/step - loss: 0.0748 - accuracy: 0.9923 - val_loss: 0.0453 - val_accuracy: 0.9950\n",
      "Epoch 74/100\n",
      "1364/1364 [==============================] - 15s 11ms/step - loss: 0.0661 - accuracy: 0.9891 - val_loss: 0.0652 - val_accuracy: 0.9941\n",
      "Epoch 75/100\n",
      "1364/1364 [==============================] - 15s 11ms/step - loss: 0.0676 - accuracy: 0.9893 - val_loss: 0.0467 - val_accuracy: 0.9935\n",
      "Epoch 76/100\n",
      "1364/1364 [==============================] - 14s 10ms/step - loss: 0.0601 - accuracy: 0.9891 - val_loss: 0.1189 - val_accuracy: 0.9944\n",
      "Epoch 77/100\n",
      "1364/1364 [==============================] - 14s 11ms/step - loss: 0.0404 - accuracy: 0.9940 - val_loss: 0.0557 - val_accuracy: 0.9935\n",
      "Epoch 78/100\n",
      "1364/1364 [==============================] - 14s 10ms/step - loss: 0.0686 - accuracy: 0.9932 - val_loss: 0.0495 - val_accuracy: 0.9941\n",
      "Epoch 79/100\n",
      "1364/1364 [==============================] - 14s 10ms/step - loss: 0.0409 - accuracy: 0.9943 - val_loss: 0.0618 - val_accuracy: 0.9950\n",
      "Epoch 80/100\n",
      "1364/1364 [==============================] - 14s 10ms/step - loss: 0.0613 - accuracy: 0.9928 - val_loss: 0.0438 - val_accuracy: 0.9944\n",
      "Epoch 81/100\n",
      "1364/1364 [==============================] - 15s 11ms/step - loss: 0.0818 - accuracy: 0.9893 - val_loss: 0.0639 - val_accuracy: 0.9935\n",
      "Epoch 82/100\n",
      "1364/1364 [==============================] - 14s 10ms/step - loss: 0.0558 - accuracy: 0.9898 - val_loss: 0.0750 - val_accuracy: 0.9933\n",
      "Epoch 83/100\n",
      "1364/1364 [==============================] - 14s 10ms/step - loss: 0.0568 - accuracy: 0.9919 - val_loss: 0.0522 - val_accuracy: 0.9950\n",
      "Epoch 84/100\n",
      "1364/1364 [==============================] - 14s 10ms/step - loss: 0.0707 - accuracy: 0.9927 - val_loss: 0.0336 - val_accuracy: 0.9950\n",
      "Epoch 85/100\n",
      "1364/1364 [==============================] - 15s 11ms/step - loss: 0.0615 - accuracy: 0.9929 - val_loss: 0.0433 - val_accuracy: 0.9953\n",
      "Epoch 86/100\n",
      "1364/1364 [==============================] - 13s 10ms/step - loss: 0.0375 - accuracy: 0.9943 - val_loss: 0.1049 - val_accuracy: 0.9947\n",
      "Epoch 87/100\n",
      "1364/1364 [==============================] - 14s 10ms/step - loss: 0.0372 - accuracy: 0.9942 - val_loss: 0.0892 - val_accuracy: 0.9950\n",
      "Epoch 88/100\n",
      "1364/1364 [==============================] - 14s 10ms/step - loss: 0.0641 - accuracy: 0.9927 - val_loss: 0.0985 - val_accuracy: 0.9935\n",
      "Epoch 89/100\n",
      "1364/1364 [==============================] - 14s 10ms/step - loss: 0.0512 - accuracy: 0.9913 - val_loss: 0.0580 - val_accuracy: 0.9950\n",
      "Epoch 90/100\n",
      "1364/1364 [==============================] - 14s 10ms/step - loss: 0.0864 - accuracy: 0.9921 - val_loss: 0.1047 - val_accuracy: 0.9950\n",
      "Epoch 91/100\n",
      "1364/1364 [==============================] - 13s 10ms/step - loss: 0.0407 - accuracy: 0.9934 - val_loss: 0.0739 - val_accuracy: 0.9944\n",
      "Epoch 92/100\n",
      "1364/1364 [==============================] - 14s 10ms/step - loss: 0.0419 - accuracy: 0.9930 - val_loss: 0.0651 - val_accuracy: 0.9853\n",
      "Epoch 93/100\n",
      "1364/1364 [==============================] - 14s 10ms/step - loss: 0.0989 - accuracy: 0.9897 - val_loss: 0.0819 - val_accuracy: 0.9938\n",
      "Epoch 94/100\n",
      "1364/1364 [==============================] - 14s 10ms/step - loss: 0.0427 - accuracy: 0.9927 - val_loss: 0.0784 - val_accuracy: 0.9947\n",
      "Epoch 95/100\n",
      "1364/1364 [==============================] - 14s 10ms/step - loss: 0.0463 - accuracy: 0.9938 - val_loss: 0.0942 - val_accuracy: 0.9933\n",
      "Epoch 96/100\n",
      "1364/1364 [==============================] - 13s 10ms/step - loss: 0.0598 - accuracy: 0.9908 - val_loss: 0.1309 - val_accuracy: 0.9909\n",
      "Epoch 97/100\n",
      "1364/1364 [==============================] - 14s 10ms/step - loss: 0.0717 - accuracy: 0.9916 - val_loss: 0.0960 - val_accuracy: 0.9944\n",
      "Epoch 98/100\n",
      "1364/1364 [==============================] - 14s 10ms/step - loss: 0.0370 - accuracy: 0.9938 - val_loss: 0.1445 - val_accuracy: 0.9947\n",
      "Epoch 99/100\n",
      "1364/1364 [==============================] - 14s 10ms/step - loss: 0.0679 - accuracy: 0.9929 - val_loss: 0.1177 - val_accuracy: 0.9938\n",
      "Epoch 100/100\n",
      "1364/1364 [==============================] - 14s 10ms/step - loss: 0.0516 - accuracy: 0.9915 - val_loss: 0.1030 - val_accuracy: 0.9950\n"
     ]
    },
    {
     "data": {
      "text/plain": [
       "<keras.callbacks.History at 0x15b5fc310>"
      ]
     },
     "execution_count": 8,
     "metadata": {},
     "output_type": "execute_result"
    }
   ],
   "source": [
    "model.fit(x_train, y_train, epochs=100, batch_size=10, validation_data=(x_test, y_test))"
   ]
  },
  {
   "cell_type": "markdown",
   "metadata": {},
   "source": [
    "## 2. Model Evaluation"
   ]
  },
  {
   "cell_type": "markdown",
   "metadata": {},
   "source": [
    "### 2.1. Train set evaluation"
   ]
  },
  {
   "cell_type": "code",
   "execution_count": 9,
   "metadata": {},
   "outputs": [
    {
     "name": "stdout",
     "output_type": "stream",
     "text": [
      "  1/107 [..............................] - ETA: 30s"
     ]
    },
    {
     "name": "stderr",
     "output_type": "stream",
     "text": [
      "2022-11-14 11:04:43.450300: I tensorflow/core/grappler/optimizers/custom_graph_optimizer_registry.cc:113] Plugin optimizer for device_type GPU is enabled.\n"
     ]
    },
    {
     "name": "stdout",
     "output_type": "stream",
     "text": [
      "107/107 [==============================] - 1s 3ms/step\n",
      "107/107 [==============================] - 0s 2ms/step\n"
     ]
    },
    {
     "data": {
      "text/plain": [
       "array([[1037,    7,    1],\n",
       "       [   0, 1208,    3],\n",
       "       [   0,    6, 1146]])"
      ]
     },
     "execution_count": 9,
     "metadata": {},
     "output_type": "execute_result"
    }
   ],
   "source": [
    "predict_x = model.predict(x_test) \n",
    "y_pred_class = np.argmax(predict_x, axis=1)\n",
    "\n",
    "y_pred = model.predict(x_test)\n",
    "y_test_class = np.argmax(y_test, axis=1)\n",
    "\n",
    "confusion_matrix(y_test_class, y_pred_class)"
   ]
  },
  {
   "cell_type": "code",
   "execution_count": 10,
   "metadata": {},
   "outputs": [
    {
     "name": "stdout",
     "output_type": "stream",
     "text": [
      "              precision    recall  f1-score   support\n",
      "\n",
      "           0       1.00      0.99      1.00      1045\n",
      "           1       0.99      1.00      0.99      1211\n",
      "           2       1.00      0.99      1.00      1152\n",
      "\n",
      "    accuracy                           1.00      3408\n",
      "   macro avg       1.00      0.99      1.00      3408\n",
      "weighted avg       1.00      1.00      1.00      3408\n",
      "\n"
     ]
    }
   ],
   "source": [
    "print(classification_report(y_test_class, y_pred_class))"
   ]
  },
  {
   "cell_type": "markdown",
   "metadata": {},
   "source": [
    "### 2.2. Test set evaluation"
   ]
  },
  {
   "cell_type": "code",
   "execution_count": 5,
   "metadata": {},
   "outputs": [],
   "source": [
    "test_df = pd.read_csv(\"./test.csv\")\n",
    "\n",
    "# Categorizing label\n",
    "test_df.loc[test_df[\"label\"] == \"I\", \"label\"] = 0\n",
    "test_df.loc[test_df[\"label\"] == \"M\", \"label\"] = 1\n",
    "test_df.loc[test_df[\"label\"] == \"D\", \"label\"] = 2"
   ]
  },
  {
   "cell_type": "code",
   "execution_count": 13,
   "metadata": {},
   "outputs": [],
   "source": [
    "# Standard Scaling of features\n",
    "test_x = test_df.drop(\"label\", axis = 1)\n",
    "test_x = pd.DataFrame(input_scaler.transform(test_x))\n",
    "\n",
    "test_y = test_df[\"label\"]\n",
    "\n",
    "# # Converting prediction to categorical\n",
    "test_y_cat = to_categorical(test_y)"
   ]
  },
  {
   "cell_type": "code",
   "execution_count": 16,
   "metadata": {},
   "outputs": [
    {
     "name": "stdout",
     "output_type": "stream",
     "text": [
      "26/26 [==============================] - 0s 2ms/step\n"
     ]
    },
    {
     "data": {
      "text/plain": [
       "array([[267,   0,   0],\n",
       "       [  0, 263,   0],\n",
       "       [  0,   0, 299]])"
      ]
     },
     "execution_count": 16,
     "metadata": {},
     "output_type": "execute_result"
    }
   ],
   "source": [
    "predict_x = model.predict(test_x) \n",
    "y_pred_class = np.argmax(predict_x, axis=1)\n",
    "y_test_class = np.argmax(test_y_cat, axis=1)\n",
    "\n",
    "confusion_matrix(y_test_class, y_pred_class)"
   ]
  },
  {
   "cell_type": "code",
   "execution_count": 17,
   "metadata": {},
   "outputs": [
    {
     "name": "stdout",
     "output_type": "stream",
     "text": [
      "              precision    recall  f1-score   support\n",
      "\n",
      "           0       1.00      1.00      1.00       267\n",
      "           1       1.00      1.00      1.00       263\n",
      "           2       1.00      1.00      1.00       299\n",
      "\n",
      "    accuracy                           1.00       829\n",
      "   macro avg       1.00      1.00      1.00       829\n",
      "weighted avg       1.00      1.00      1.00       829\n",
      "\n"
     ]
    }
   ],
   "source": [
    "print(classification_report(y_test_class, y_pred_class))"
   ]
  },
  {
   "cell_type": "markdown",
   "metadata": {},
   "source": [
    "## 3. Dump Model"
   ]
  },
  {
   "cell_type": "code",
   "execution_count": 11,
   "metadata": {},
   "outputs": [
    {
     "name": "stdout",
     "output_type": "stream",
     "text": [
      "INFO:tensorflow:Assets written to: ram://6d931dd9-8715-41d1-81d4-8f3b853c1109/assets\n"
     ]
    }
   ],
   "source": [
    "# Dump the best model to a pickle file\n",
    "with open(\"./model/lunge_model_deep_learning.pkl\", \"wb\") as f:\n",
    "    pickle.dump(model, f)"
   ]
  },
  {
   "cell_type": "code",
   "execution_count": null,
   "metadata": {},
   "outputs": [],
   "source": []
  }
 ],
 "metadata": {
  "kernelspec": {
   "display_name": "Python 3.8.13 (conda)",
   "language": "python",
   "name": "python3"
  },
  "language_info": {
   "codemirror_mode": {
    "name": "ipython",
    "version": 3
   },
   "file_extension": ".py",
   "mimetype": "text/x-python",
   "name": "python",
   "nbconvert_exporter": "python",
   "pygments_lexer": "ipython3",
   "version": "3.8.13"
  },
  "orig_nbformat": 4,
  "vscode": {
   "interpreter": {
    "hash": "9260f401923fb5c4108c543a7d176de9733d378b3752e49535ad7c43c2271b65"
   }
  }
 },
 "nbformat": 4,
 "nbformat_minor": 2
}
